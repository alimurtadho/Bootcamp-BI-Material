{
  "cells": [
    {
      "cell_type": "markdown",
      "metadata": {
        "id": "61L-xbEynFd8"
      },
      "source": [
        "# Extract"
      ]
    },
    {
      "cell_type": "markdown",
      "metadata": {
        "id": "Nk4b_wuN6Njk"
      },
      "source": [
        "## Exctract - Web Scraping"
      ]
    },
    {
      "cell_type": "code",
      "execution_count": 1,
      "metadata": {
        "id": "B_eg7Gl75LB0"
      },
      "outputs": [],
      "source": [
        "# Import necessary libraries\n",
        "\n",
        "import requests #Sending and receiving HTTP requests\n",
        "from bs4 import BeautifulSoup #Parsing and navigation of HTML and XML web pages\n",
        "import pandas as pd #Used for data manipulation and analysis"
      ]
    },
    {
      "cell_type": "code",
      "execution_count": 2,
      "metadata": {
        "id": "tz9--u-B5N3F"
      },
      "outputs": [
        {
          "name": "stdout",
          "output_type": "stream",
          "text": [
            "['TOP 20\\nCAT POPULATIONS', '']\n",
            "[['USA', '74,059,000'], ['China', '53,100,000'], ['Russia', '17,800,000'], ['Brazil', '12,466,000'], ['France', '11,480,000'], ['Germany', '8,200,000'], ['UK', '8,000,000'], ['Italy', '7,400,000'], ['Ukraine', '7,350,000'], ['Japan', '7,300,000'], ['Poland', '5,550,000'], ['Romania', '3,891,000'], ['Spain', '3,385,000'], ['Argentina', '3,000,000'], ['Netherlands', '2,877,000'], ['Hungary', '2,240,000'], ['Australia', '2,200,000'], ['South Africa', '2,000,000'], ['Belgium', '1,884,100'], ['Czech Republic', '1,750,000']]\n"
          ]
        },
        {
          "data": {
            "text/html": [
              "<div>\n",
              "<style scoped>\n",
              "    .dataframe tbody tr th:only-of-type {\n",
              "        vertical-align: middle;\n",
              "    }\n",
              "\n",
              "    .dataframe tbody tr th {\n",
              "        vertical-align: top;\n",
              "    }\n",
              "\n",
              "    .dataframe thead th {\n",
              "        text-align: right;\n",
              "    }\n",
              "</style>\n",
              "<table border=\"1\" class=\"dataframe\">\n",
              "  <thead>\n",
              "    <tr style=\"text-align: right;\">\n",
              "      <th></th>\n",
              "      <th>TOP 20\\nCAT POPULATIONS</th>\n",
              "      <th></th>\n",
              "    </tr>\n",
              "  </thead>\n",
              "  <tbody>\n",
              "    <tr>\n",
              "      <th>0</th>\n",
              "      <td>USA</td>\n",
              "      <td>74,059,000</td>\n",
              "    </tr>\n",
              "    <tr>\n",
              "      <th>1</th>\n",
              "      <td>China</td>\n",
              "      <td>53,100,000</td>\n",
              "    </tr>\n",
              "    <tr>\n",
              "      <th>2</th>\n",
              "      <td>Russia</td>\n",
              "      <td>17,800,000</td>\n",
              "    </tr>\n",
              "    <tr>\n",
              "      <th>3</th>\n",
              "      <td>Brazil</td>\n",
              "      <td>12,466,000</td>\n",
              "    </tr>\n",
              "    <tr>\n",
              "      <th>4</th>\n",
              "      <td>France</td>\n",
              "      <td>11,480,000</td>\n",
              "    </tr>\n",
              "    <tr>\n",
              "      <th>5</th>\n",
              "      <td>Germany</td>\n",
              "      <td>8,200,000</td>\n",
              "    </tr>\n",
              "    <tr>\n",
              "      <th>6</th>\n",
              "      <td>UK</td>\n",
              "      <td>8,000,000</td>\n",
              "    </tr>\n",
              "    <tr>\n",
              "      <th>7</th>\n",
              "      <td>Italy</td>\n",
              "      <td>7,400,000</td>\n",
              "    </tr>\n",
              "    <tr>\n",
              "      <th>8</th>\n",
              "      <td>Ukraine</td>\n",
              "      <td>7,350,000</td>\n",
              "    </tr>\n",
              "    <tr>\n",
              "      <th>9</th>\n",
              "      <td>Japan</td>\n",
              "      <td>7,300,000</td>\n",
              "    </tr>\n",
              "    <tr>\n",
              "      <th>10</th>\n",
              "      <td>Poland</td>\n",
              "      <td>5,550,000</td>\n",
              "    </tr>\n",
              "    <tr>\n",
              "      <th>11</th>\n",
              "      <td>Romania</td>\n",
              "      <td>3,891,000</td>\n",
              "    </tr>\n",
              "    <tr>\n",
              "      <th>12</th>\n",
              "      <td>Spain</td>\n",
              "      <td>3,385,000</td>\n",
              "    </tr>\n",
              "    <tr>\n",
              "      <th>13</th>\n",
              "      <td>Argentina</td>\n",
              "      <td>3,000,000</td>\n",
              "    </tr>\n",
              "    <tr>\n",
              "      <th>14</th>\n",
              "      <td>Netherlands</td>\n",
              "      <td>2,877,000</td>\n",
              "    </tr>\n",
              "    <tr>\n",
              "      <th>15</th>\n",
              "      <td>Hungary</td>\n",
              "      <td>2,240,000</td>\n",
              "    </tr>\n",
              "    <tr>\n",
              "      <th>16</th>\n",
              "      <td>Australia</td>\n",
              "      <td>2,200,000</td>\n",
              "    </tr>\n",
              "    <tr>\n",
              "      <th>17</th>\n",
              "      <td>South Africa</td>\n",
              "      <td>2,000,000</td>\n",
              "    </tr>\n",
              "    <tr>\n",
              "      <th>18</th>\n",
              "      <td>Belgium</td>\n",
              "      <td>1,884,100</td>\n",
              "    </tr>\n",
              "    <tr>\n",
              "      <th>19</th>\n",
              "      <td>Czech Republic</td>\n",
              "      <td>1,750,000</td>\n",
              "    </tr>\n",
              "  </tbody>\n",
              "</table>\n",
              "</div>"
            ],
            "text/plain": [
              "   TOP 20\\nCAT POPULATIONS            \n",
              "0                      USA  74,059,000\n",
              "1                    China  53,100,000\n",
              "2                   Russia  17,800,000\n",
              "3                   Brazil  12,466,000\n",
              "4                   France  11,480,000\n",
              "5                  Germany   8,200,000\n",
              "6                       UK   8,000,000\n",
              "7                    Italy   7,400,000\n",
              "8                  Ukraine   7,350,000\n",
              "9                    Japan   7,300,000\n",
              "10                  Poland   5,550,000\n",
              "11                 Romania   3,891,000\n",
              "12                   Spain   3,385,000\n",
              "13               Argentina   3,000,000\n",
              "14             Netherlands   2,877,000\n",
              "15                 Hungary   2,240,000\n",
              "16               Australia   2,200,000\n",
              "17            South Africa   2,000,000\n",
              "18                 Belgium   1,884,100\n",
              "19          Czech Republic   1,750,000"
            ]
          },
          "execution_count": 2,
          "metadata": {},
          "output_type": "execute_result"
        }
      ],
      "source": [
        "# URL for the webpage to be scraped\n",
        "url = 'https://www.petsecure.com.au/pet-care/a-guide-to-worldwide-pet-ownership/'\n",
        "\n",
        "# Send a request to the webpage\n",
        "response = requests.get(url)\n",
        "\n",
        "# Parse the HTML content using Beautiful Soup\n",
        "soup = BeautifulSoup(response.content, 'html.parser')\n",
        "# print(soup)\n",
        "# # Find the table with class 'cat'\n",
        "table = soup.find('table', {'class': 'cats'})\n",
        "\n",
        "# Extract the table headers\n",
        "headers = []\n",
        "for th in table.find_all('th'):\n",
        "    headers.append(th.text.strip())\n",
        "\n",
        "# Extract the table data\n",
        "data = []\n",
        "for tr in table.find_all('tr'):\n",
        "    row_data = []\n",
        "    for td in tr.find_all('td'):\n",
        "        row_data.append(td.text.strip())\n",
        "    if len(row_data) > 0:\n",
        "        data.append(row_data)\n",
        "\n",
        "# Create a Pandas DataFrame for the table data\n",
        "population_df = pd.DataFrame(data, columns=headers)\n",
        "\n",
        "print(headers)\n",
        "print(data)\n",
        "# Print the DataFrame\n",
        "population_df"
      ]
    },
    {
      "cell_type": "code",
      "execution_count": 3,
      "metadata": {
        "id": "JSfVWotj5cmb"
      },
      "outputs": [
        {
          "data": {
            "text/html": [
              "<div>\n",
              "<style scoped>\n",
              "    .dataframe tbody tr th:only-of-type {\n",
              "        vertical-align: middle;\n",
              "    }\n",
              "\n",
              "    .dataframe tbody tr th {\n",
              "        vertical-align: top;\n",
              "    }\n",
              "\n",
              "    .dataframe thead th {\n",
              "        text-align: right;\n",
              "    }\n",
              "</style>\n",
              "<table border=\"1\" class=\"dataframe\">\n",
              "  <thead>\n",
              "    <tr style=\"text-align: right;\">\n",
              "      <th></th>\n",
              "      <th>country</th>\n",
              "      <th>cat_population</th>\n",
              "    </tr>\n",
              "  </thead>\n",
              "  <tbody>\n",
              "    <tr>\n",
              "      <th>0</th>\n",
              "      <td>USA</td>\n",
              "      <td>74,059,000</td>\n",
              "    </tr>\n",
              "    <tr>\n",
              "      <th>1</th>\n",
              "      <td>China</td>\n",
              "      <td>53,100,000</td>\n",
              "    </tr>\n",
              "    <tr>\n",
              "      <th>2</th>\n",
              "      <td>Russia</td>\n",
              "      <td>17,800,000</td>\n",
              "    </tr>\n",
              "    <tr>\n",
              "      <th>3</th>\n",
              "      <td>Brazil</td>\n",
              "      <td>12,466,000</td>\n",
              "    </tr>\n",
              "    <tr>\n",
              "      <th>4</th>\n",
              "      <td>France</td>\n",
              "      <td>11,480,000</td>\n",
              "    </tr>\n",
              "    <tr>\n",
              "      <th>5</th>\n",
              "      <td>Germany</td>\n",
              "      <td>8,200,000</td>\n",
              "    </tr>\n",
              "    <tr>\n",
              "      <th>6</th>\n",
              "      <td>UK</td>\n",
              "      <td>8,000,000</td>\n",
              "    </tr>\n",
              "    <tr>\n",
              "      <th>7</th>\n",
              "      <td>Italy</td>\n",
              "      <td>7,400,000</td>\n",
              "    </tr>\n",
              "    <tr>\n",
              "      <th>8</th>\n",
              "      <td>Ukraine</td>\n",
              "      <td>7,350,000</td>\n",
              "    </tr>\n",
              "    <tr>\n",
              "      <th>9</th>\n",
              "      <td>Japan</td>\n",
              "      <td>7,300,000</td>\n",
              "    </tr>\n",
              "    <tr>\n",
              "      <th>10</th>\n",
              "      <td>Poland</td>\n",
              "      <td>5,550,000</td>\n",
              "    </tr>\n",
              "    <tr>\n",
              "      <th>11</th>\n",
              "      <td>Romania</td>\n",
              "      <td>3,891,000</td>\n",
              "    </tr>\n",
              "    <tr>\n",
              "      <th>12</th>\n",
              "      <td>Spain</td>\n",
              "      <td>3,385,000</td>\n",
              "    </tr>\n",
              "    <tr>\n",
              "      <th>13</th>\n",
              "      <td>Argentina</td>\n",
              "      <td>3,000,000</td>\n",
              "    </tr>\n",
              "    <tr>\n",
              "      <th>14</th>\n",
              "      <td>Netherlands</td>\n",
              "      <td>2,877,000</td>\n",
              "    </tr>\n",
              "    <tr>\n",
              "      <th>15</th>\n",
              "      <td>Hungary</td>\n",
              "      <td>2,240,000</td>\n",
              "    </tr>\n",
              "    <tr>\n",
              "      <th>16</th>\n",
              "      <td>Australia</td>\n",
              "      <td>2,200,000</td>\n",
              "    </tr>\n",
              "    <tr>\n",
              "      <th>17</th>\n",
              "      <td>South Africa</td>\n",
              "      <td>2,000,000</td>\n",
              "    </tr>\n",
              "    <tr>\n",
              "      <th>18</th>\n",
              "      <td>Belgium</td>\n",
              "      <td>1,884,100</td>\n",
              "    </tr>\n",
              "    <tr>\n",
              "      <th>19</th>\n",
              "      <td>Czech Republic</td>\n",
              "      <td>1,750,000</td>\n",
              "    </tr>\n",
              "  </tbody>\n",
              "</table>\n",
              "</div>"
            ],
            "text/plain": [
              "           country cat_population\n",
              "0              USA     74,059,000\n",
              "1            China     53,100,000\n",
              "2           Russia     17,800,000\n",
              "3           Brazil     12,466,000\n",
              "4           France     11,480,000\n",
              "5          Germany      8,200,000\n",
              "6               UK      8,000,000\n",
              "7            Italy      7,400,000\n",
              "8          Ukraine      7,350,000\n",
              "9            Japan      7,300,000\n",
              "10          Poland      5,550,000\n",
              "11         Romania      3,891,000\n",
              "12           Spain      3,385,000\n",
              "13       Argentina      3,000,000\n",
              "14     Netherlands      2,877,000\n",
              "15         Hungary      2,240,000\n",
              "16       Australia      2,200,000\n",
              "17    South Africa      2,000,000\n",
              "18         Belgium      1,884,100\n",
              "19  Czech Republic      1,750,000"
            ]
          },
          "execution_count": 3,
          "metadata": {},
          "output_type": "execute_result"
        }
      ],
      "source": [
        "# Rename columns\n",
        "population_df = population_df.rename(columns={population_df.columns[0]:'country',population_df.columns[1]:'cat_population'})\n",
        "population_df"
      ]
    },
    {
      "cell_type": "markdown",
      "metadata": {},
      "source": [
        "## please your create code load data in postgresql extract webscraping"
      ]
    },
    {
      "cell_type": "code",
      "execution_count": null,
      "metadata": {
        "id": "B2dj5zVg5fEl"
      },
      "outputs": [],
      "source": [
        "\"\"\"\n",
        "Create your own code to scrap Fish Table data and rename the column to be more appropriate\n",
        "\"\"\""
      ]
    },
    {
      "cell_type": "markdown",
      "metadata": {
        "id": "8sxZRF8w9Xp2"
      },
      "source": [
        "## Exctract - API"
      ]
    },
    {
      "cell_type": "code",
      "execution_count": null,
      "metadata": {
        "id": "VraX22DB-SrJ"
      },
      "outputs": [],
      "source": [
        "import requests\n",
        "import json\n",
        "import pandas as pd\n",
        "\n",
        "# Fetch data from the API\n",
        "response_API = requests.get('https://api.covid19india.org/state_district_wise.json')\n",
        "data = response_API.text\n",
        "\n",
        "# Parse data into JSON format\n",
        "parse_json = json.loads(data)\n",
        "# print(parse_json)\n",
        "# Create a DataFrame\n",
        "df = pd.DataFrame(parse_json)\n",
        "\n",
        "# # Transpose the DataFrame for better readability (optional)\n",
        "df = df.T\n",
        "# print(df)\n",
        "# # Create an empty DataFrame to store transformed data\n",
        "df_transformed = pd.DataFrame(columns=['State', 'District', 'Active', 'Recovered', 'Deceased'])\n",
        "\n",
        "# Iterate through each row in the original DataFrame\n",
        "for state, district_data in df['districtData'].items():\n",
        "    for district, stats in district_data.items():\n",
        "        active = stats.get('active', 0)\n",
        "        recovered = stats.get('recovered', 0)\n",
        "        deceased = stats.get('deceased', 0)\n",
        "\n",
        "        # Append a new row to the transformed DataFrame\n",
        "        df_transformed = pd.concat([df_transformed, pd.DataFrame({\n",
        "            'State': [state],\n",
        "            'District': [district],\n",
        "            'Active': [active],\n",
        "            'Recovered': [recovered],\n",
        "            'Deceased': [deceased]\n",
        "        })], ignore_index=True)\n",
        "\n",
        "# Print the transformed DataFrame\n",
        "# print(df_transformed.head())\n",
        "df_transformed.head()\n"
      ]
    },
    {
      "cell_type": "markdown",
      "metadata": {},
      "source": [
        "## please your create code load data in postgresql extract -api "
      ]
    },
    {
      "cell_type": "markdown",
      "metadata": {
        "id": "1Ndl23m1nH-M"
      },
      "source": [
        "# Load"
      ]
    },
    {
      "cell_type": "markdown",
      "metadata": {
        "id": "MUzKMN3-nS6N"
      },
      "source": [
        "## Load - Initial Load"
      ]
    },
    {
      "cell_type": "code",
      "execution_count": null,
      "metadata": {
        "id": "DoxZXczNnLNC"
      },
      "outputs": [],
      "source": [
        "  import pandas as pd\n",
        "\n",
        "# Simulated data (replace with your actual data extraction)\n",
        "source_data = pd.DataFrame({\n",
        "    'ID': [1, 2, 3],\n",
        "    'Name': ['Alice', 'Bob', 'Carol'],\n",
        "    'Salary': [50000, 60000, 70000]\n",
        "})\n",
        "\n",
        "# Load data into target table (replace with your actual target table)\n",
        "target_table = pd.DataFrame()  # Initialize an empty DataFrame\n",
        "\n",
        "# Concatenate the source data to the target table\n",
        "target_table = pd.concat([target_table, source_data], ignore_index=True)\n",
        "\n",
        "# Print the target table (initial load)\n",
        "print(\"Target Table (Initial Load):\\n\", target_table)\n"
      ]
    },
    {
      "cell_type": "markdown",
      "metadata": {
        "id": "vsM73zeoCpKb"
      },
      "source": [
        "## Load - Delta Load"
      ]
    },
    {
      "cell_type": "code",
      "execution_count": null,
      "metadata": {
        "id": "cTn0H4ClCoeh"
      },
      "outputs": [],
      "source": [
        "import pandas as pd\n",
        "\n",
        "# Simulated existing data (replace with your actual data)\n",
        "existing_data = pd.DataFrame({\n",
        "    'ID': [1, 2],\n",
        "    'Name': ['Alice', 'Bob'],\n",
        "    'Salary': [50000, 60000],\n",
        "    'updated_at': ['2023-03-01', '2023-03-02']  # Example existing timestamps\n",
        "})\n",
        "\n",
        "# Simulated delta data (replace with your actual delta data)\n",
        "delta_data = pd.DataFrame({\n",
        "    'ID': [4, 5],\n",
        "    'Name': ['David', 'Eve'],\n",
        "    'Salary': [55000, 72000],\n",
        "    'updated_at': ['2023-03-01', '2023-03-04']  # Example delta timestamps\n",
        "})\n",
        "\n",
        "# Convert timestamps to datetime format\n",
        "existing_data['updated_at'] = pd.to_datetime(existing_data['updated_at'])\n",
        "delta_data['updated_at'] = pd.to_datetime(delta_data['updated_at'])\n",
        "\n",
        "# Filter delta data based on updated_at timestamp\n",
        "delta_data = delta_data[delta_data['updated_at'] > existing_data['updated_at'].max()]\n",
        "\n",
        "# Append delta data to the existing data\n",
        "combined_data = pd.concat([existing_data, delta_data], ignore_index=True)\n",
        "\n",
        "# Print the updated data (delta load)\n",
        "print(\"Combined Data (Delta Load):\\n\", combined_data)\n"
      ]
    }
  ],
  "metadata": {
    "colab": {
      "provenance": []
    },
    "kernelspec": {
      "display_name": "Python 3",
      "name": "python3"
    },
    "language_info": {
      "codemirror_mode": {
        "name": "ipython",
        "version": 3
      },
      "file_extension": ".py",
      "mimetype": "text/x-python",
      "name": "python",
      "nbconvert_exporter": "python",
      "pygments_lexer": "ipython3",
      "version": "3.9.10"
    }
  },
  "nbformat": 4,
  "nbformat_minor": 0
}
