{
  "nbformat": 4,
  "nbformat_minor": 0,
  "metadata": {
    "colab": {
      "provenance": [],
      "collapsed_sections": [
        "p4o9gTAQhPuj",
        "_3OUmfInk4QI",
        "pyI8LINw0i0P"
      ],
      "toc_visible": true
    },
    "kernelspec": {
      "name": "python3",
      "display_name": "Python 3"
    },
    "language_info": {
      "name": "python"
    }
  },
  "cells": [
    {
      "cell_type": "markdown",
      "metadata": {
        "id": "fLmk4oTgQzpJ"
      },
      "source": [
        "# 1. Basic Python"
      ]
    },
    {
      "cell_type": "markdown",
      "metadata": {
        "id": "fAtRXq1YWvxo"
      },
      "source": [
        "## 1.1. Variabel"
      ]
    },
    {
      "cell_type": "markdown",
      "metadata": {
        "id": "JP1EAWOCAwU3"
      },
      "source": [
        "1. Nama variabel tidak boleh diawali oleh angka.\n",
        "2. Nama variabel hanya bisa terdiri dari karakter alpha-numeric dan underscore (A-z, 0-9, dan _ )\n",
        "3. Nama variabel bersifat case sensitive. Artinya variabel nama berbeda dengan Nama atau naMA\n",
        "4. Nama variabel tidak boleh reserved keywords https://realpython.com/lessons/reserved-keywords/"
      ]
    },
    {
      "cell_type": "code",
      "metadata": {
        "id": "rXxbZgr3QkkJ",
        "colab": {
          "base_uri": "https://localhost:8080/"
        },
        "outputId": "a87eb033-e2c8-42cf-be12-e78b8ef59c82"
      },
      "source": [
        "# Menentukan nama variabel lalu mengisikan sebuah nilai\n",
        "belajar = \"belajar python\"\n",
        "# Belajar = \" new belajar\"\n",
        "print(belajar)"
      ],
      "execution_count": 3,
      "outputs": [
        {
          "output_type": "stream",
          "name": "stdout",
          "text": [
            "belajar python\n"
          ]
        }
      ]
    },
    {
      "cell_type": "code",
      "metadata": {
        "id": "lSVdcW74VDlf",
        "colab": {
          "base_uri": "https://localhost:8080/"
        },
        "outputId": "4703d203-0a81-4e90-b0f1-1818e7d83f49"
      },
      "source": [
        "# TO DO: Buat variabel dan isikan nama kalian\n",
        "namaku = \"mas aji\"\n",
        "concat_variabel = \"perkenalan saya :\" + namaku + \"lagi\" + Belajar\n",
        "# print(\"perkenalkan saya: \" + namaku)\n",
        "print(concat_variabel)"
      ],
      "execution_count": null,
      "outputs": [
        {
          "output_type": "stream",
          "name": "stdout",
          "text": [
            "perkenalan saya :mas ajilagi new belajar\n"
          ]
        }
      ]
    },
    {
      "cell_type": "code",
      "metadata": {
        "id": "a9ALUvL3efQq"
      },
      "source": [
        "# TO DO: Pilih nama variabel yang benar# @param [\"2nama\", \"nama2\", \"lambda\"]"
      ],
      "execution_count": null,
      "outputs": []
    },
    {
      "cell_type": "code",
      "metadata": {
        "id": "ht7gdukycosA"
      },
      "source": [
        "# nama_var = \"lambda\" #@param [\"2nama\", \"nama2\", \"lambda\"]\n",
        "\n"
      ],
      "execution_count": null,
      "outputs": []
    },
    {
      "cell_type": "code",
      "metadata": {
        "id": "jvLwMu1Id9SZ",
        "colab": {
          "base_uri": "https://localhost:8080/"
        },
        "outputId": "83586248-a1c0-457f-aba5-f7e206f65cae"
      },
      "source": [
        "# #@title\n",
        "# if nama_var == 'nama2':\n",
        "#   print('yeay benar!')\n",
        "# else:\n",
        "#   print('yah salah')"
      ],
      "execution_count": null,
      "outputs": [
        {
          "output_type": "stream",
          "name": "stdout",
          "text": [
            "yeay benar!\n"
          ]
        }
      ]
    },
    {
      "cell_type": "markdown",
      "metadata": {
        "id": "RiUF2ldohIIc"
      },
      "source": [
        "## 1.2. Data Type"
      ]
    },
    {
      "cell_type": "markdown",
      "metadata": {
        "id": "p4o9gTAQhPuj"
      },
      "source": [
        "### 1.2.1. Numbers"
      ]
    },
    {
      "cell_type": "code",
      "metadata": {
        "id": "u4itCrmzhNvd",
        "colab": {
          "base_uri": "https://localhost:8080/"
        },
        "outputId": "6df98a52-e888-489f-9d92-0801440022f4"
      },
      "source": [
        "# Int\n",
        "x = 10\n",
        "print(type(x))"
      ],
      "execution_count": null,
      "outputs": [
        {
          "output_type": "stream",
          "name": "stdout",
          "text": [
            "<class 'int'>\n"
          ]
        }
      ]
    },
    {
      "cell_type": "code",
      "metadata": {
        "id": "PqACMO-9iTAl",
        "colab": {
          "base_uri": "https://localhost:8080/"
        },
        "outputId": "93360217-5f29-48b7-82e3-bc9d5975e35c"
      },
      "source": [
        "# float\n",
        "y = 1.5\n",
        "print(type(y))"
      ],
      "execution_count": null,
      "outputs": [
        {
          "output_type": "stream",
          "name": "stdout",
          "text": [
            "<class 'float'>\n"
          ]
        }
      ]
    },
    {
      "cell_type": "code",
      "metadata": {
        "id": "m47YOzHFicEC",
        "colab": {
          "base_uri": "https://localhost:8080/"
        },
        "outputId": "24b9ce38-67e2-4eaf-acfa-0006af6e68cf"
      },
      "source": [
        "#complex\n",
        "z = 1j\n",
        "\n",
        "# print(z)\n",
        "print(type(z))"
      ],
      "execution_count": null,
      "outputs": [
        {
          "output_type": "stream",
          "name": "stdout",
          "text": [
            "<class 'complex'>\n"
          ]
        }
      ]
    },
    {
      "cell_type": "code",
      "source": [
        "print(type(belajar))"
      ],
      "metadata": {
        "id": "-n_P2Qs4Q4q3",
        "outputId": "5507ccc0-2c35-497c-ddea-8419d9f69362",
        "colab": {
          "base_uri": "https://localhost:8080/"
        }
      },
      "execution_count": null,
      "outputs": [
        {
          "output_type": "stream",
          "name": "stdout",
          "text": [
            "<class 'str'>\n"
          ]
        }
      ]
    },
    {
      "cell_type": "markdown",
      "metadata": {
        "id": "_3OUmfInk4QI"
      },
      "source": [
        "### 1.2.2. String (text)"
      ]
    },
    {
      "cell_type": "code",
      "metadata": {
        "id": "cS6IYiY0k8VU",
        "colab": {
          "base_uri": "https://localhost:8080/"
        },
        "outputId": "f6a731b9-6f64-44f5-9dd7-39acb7f2c4df"
      },
      "source": [
        "single_quotes = 'contoh single quotes \\n bla '\n",
        "print(single_quotes)"
      ],
      "execution_count": null,
      "outputs": [
        {
          "output_type": "stream",
          "name": "stdout",
          "text": [
            "contoh single quotes \n",
            " bla\n"
          ]
        }
      ]
    },
    {
      "cell_type": "code",
      "metadata": {
        "id": "NCe-7OIik_rU",
        "colab": {
          "base_uri": "https://localhost:8080/"
        },
        "outputId": "f1e7c831-ad75-4d9d-e7e7-3fde4ee479d7"
      },
      "source": [
        "print(\"double quotes \\n 'singlequotes' \")"
      ],
      "execution_count": null,
      "outputs": [
        {
          "output_type": "stream",
          "name": "stdout",
          "text": [
            "double quotes \n",
            " 'singlequotes' \n"
          ]
        }
      ]
    },
    {
      "cell_type": "code",
      "metadata": {
        "id": "qVeodILolBN9",
        "colab": {
          "base_uri": "https://localhost:8080/"
        },
        "outputId": "ded420ad-0e12-4234-845e-7d359fa37f94"
      },
      "source": [
        "print(\"\"\"\n",
        "First line\n",
        "Second line\n",
        "triple line\n",
        "      \"\"\")"
      ],
      "execution_count": null,
      "outputs": [
        {
          "output_type": "stream",
          "name": "stdout",
          "text": [
            " \n",
            "First line \n",
            "Second line\n",
            "triple line\n",
            "      \n"
          ]
        }
      ]
    },
    {
      "cell_type": "code",
      "metadata": {
        "id": "LcHDx8hYlKkA",
        "colab": {
          "base_uri": "https://localhost:8080/"
        },
        "outputId": "975bf3c4-cc88-4675-92d9-e5365de74219"
      },
      "source": [
        "print('First line.\\n Second line.')"
      ],
      "execution_count": null,
      "outputs": [
        {
          "output_type": "stream",
          "name": "stdout",
          "text": [
            "First line.\n",
            "Second line.\n"
          ]
        }
      ]
    },
    {
      "cell_type": "code",
      "metadata": {
        "id": "k4oy9qVXlNP2",
        "colab": {
          "base_uri": "https://localhost:8080/"
        },
        "outputId": "4c59675e-0e5e-4839-ec91-f79e0f8ac3b0"
      },
      "source": [
        "# print(r'C:\\some\\name')"
      ],
      "execution_count": null,
      "outputs": [
        {
          "output_type": "stream",
          "name": "stdout",
          "text": [
            "C:\\some\\name\n"
          ]
        }
      ]
    },
    {
      "cell_type": "code",
      "metadata": {
        "id": "8ktTDdBri_V-",
        "colab": {
          "base_uri": "https://localhost:8080/"
        },
        "outputId": "9e70caed-05ee-4284-8ba9-b74482add8d3"
      },
      "source": [
        "# sebagai kalkulator\n",
        "1+1"
      ],
      "execution_count": null,
      "outputs": [
        {
          "output_type": "execute_result",
          "data": {
            "text/plain": [
              "2"
            ]
          },
          "metadata": {},
          "execution_count": 33
        }
      ]
    },
    {
      "cell_type": "markdown",
      "source": [
        "##aritmatic"
      ],
      "metadata": {
        "id": "js9M7lshTTWy"
      }
    },
    {
      "cell_type": "code",
      "metadata": {
        "id": "P86dUyj0kM1I",
        "colab": {
          "base_uri": "https://localhost:8080/"
        },
        "outputId": "82cca314-9258-481c-c319-0f0159c91258"
      },
      "source": [
        "# TO DO: buat contoh operator Addition\n",
        "print(belajar)"
      ],
      "execution_count": 4,
      "outputs": [
        {
          "output_type": "stream",
          "name": "stdout",
          "text": [
            "belajar python\n"
          ]
        }
      ]
    },
    {
      "cell_type": "code",
      "metadata": {
        "id": "0YHNuvDw2EMu"
      },
      "source": [
        "x = 4\n",
        "y = 2"
      ],
      "execution_count": 1,
      "outputs": []
    },
    {
      "cell_type": "code",
      "metadata": {
        "id": "24ekPBWC2EM3",
        "colab": {
          "base_uri": "https://localhost:8080/"
        },
        "outputId": "b79218f0-51ba-4c4e-9c2f-a46a5bf4aa18"
      },
      "source": [
        "# Penjumlahan\n",
        "penjumlahan = x + y\n",
        "print(penjumlahan)"
      ],
      "execution_count": 5,
      "outputs": [
        {
          "output_type": "stream",
          "name": "stdout",
          "text": [
            "6\n"
          ]
        }
      ]
    },
    {
      "cell_type": "code",
      "metadata": {
        "id": "vo-jbLZH2ENA",
        "colab": {
          "base_uri": "https://localhost:8080/"
        },
        "outputId": "59f3a19e-af0a-43f9-ee3b-e74a3e4ec01e"
      },
      "source": [
        "# Pengurangan\n",
        "pengurangan = x - y\n",
        "print(pengurangan)"
      ],
      "execution_count": 6,
      "outputs": [
        {
          "output_type": "stream",
          "name": "stdout",
          "text": [
            "2\n"
          ]
        }
      ]
    },
    {
      "cell_type": "code",
      "metadata": {
        "id": "011MQ2fM2ENH",
        "colab": {
          "base_uri": "https://localhost:8080/"
        },
        "outputId": "9a3b604b-b795-4220-cfa6-2891df550b89"
      },
      "source": [
        "# TO DO: isilah operasi dasar aritmatika pada x dan y\n",
        "\n",
        "perkalian = x * y\n",
        "pembagian = x / y\n",
        "sisa = 7 % 2\n",
        "pangkat = x**4\n",
        "\n",
        "\n",
        "# print(perkalian)\n",
        "# print(pembagian)\n",
        "# print(sisa)\n",
        "# print(pangkat)\n",
        "print(perkalian,'\\n',pembagian,'\\n',sisa,'\\n',pangkat)"
      ],
      "execution_count": 14,
      "outputs": [
        {
          "output_type": "stream",
          "name": "stdout",
          "text": [
            "8 \n",
            " 2.0 \n",
            " 1 \n",
            " 256\n"
          ]
        }
      ]
    },
    {
      "cell_type": "code",
      "metadata": {
        "id": "lYyHtWujAmS4"
      },
      "source": [],
      "execution_count": null,
      "outputs": []
    },
    {
      "cell_type": "markdown",
      "metadata": {
        "id": "LRNrW3b82EMp"
      },
      "source": [
        "## 1.3. Operators"
      ]
    },
    {
      "cell_type": "markdown",
      "metadata": {
        "id": "L_j9wFOM2EMt"
      },
      "source": [
        "### 1.3.1. Arithmetic Operators"
      ]
    },
    {
      "cell_type": "code",
      "metadata": {
        "id": "ek-u5uISApV-"
      },
      "source": [
        "x = 5\n",
        "y = 2"
      ],
      "execution_count": null,
      "outputs": []
    },
    {
      "cell_type": "code",
      "metadata": {
        "id": "IBPDwsNLApV-"
      },
      "source": [
        "# Penjumlahan\n",
        "penjumlahan = x + y\n",
        "print(penjumlahan)"
      ],
      "execution_count": null,
      "outputs": []
    },
    {
      "cell_type": "code",
      "metadata": {
        "id": "-yun41QuApV_"
      },
      "source": [
        "# Pengurangan\n",
        "pengurangan = x - y\n",
        "print(pengurangan)"
      ],
      "execution_count": null,
      "outputs": []
    },
    {
      "cell_type": "code",
      "metadata": {
        "id": "Pw6JP-fvApV_",
        "colab": {
          "base_uri": "https://localhost:8080/"
        },
        "outputId": "c7d7f92a-79f5-457d-9100-e8a2afd8ecd5"
      },
      "source": [
        "# TO DO: isilah operasi dasar aritmatika pada x dan y\n",
        "\n",
        "perkalian = None\n",
        "pembagian = None\n",
        "sisa = x % y\n",
        "pangkat = None\n",
        "\n",
        "\n",
        "print(perkalian)\n",
        "print(pembagian)\n",
        "print(sisa)\n",
        "print(pangkat)"
      ],
      "execution_count": null,
      "outputs": [
        {
          "output_type": "stream",
          "name": "stdout",
          "text": [
            "None\n",
            "None\n",
            "1\n",
            "None\n"
          ]
        }
      ]
    },
    {
      "cell_type": "markdown",
      "metadata": {
        "id": "bVHt28SJ2ENR"
      },
      "source": [
        "### 1.3.2. Comparison Operators"
      ]
    },
    {
      "cell_type": "code",
      "metadata": {
        "id": "QYmuKtim2ENU",
        "colab": {
          "base_uri": "https://localhost:8080/"
        },
        "outputId": "fb91a9c3-0991-474b-a4ef-51ecf28cf262"
      },
      "source": [
        "# Lebih dari\n",
        "#x=4,y=2\n",
        "lebih_dari = x > y\n",
        "print(type(lebih_dari))\n",
        "print(lebih_dari)"
      ],
      "execution_count": 17,
      "outputs": [
        {
          "output_type": "stream",
          "name": "stdout",
          "text": [
            "<class 'bool'>\n",
            "True\n"
          ]
        }
      ]
    },
    {
      "cell_type": "code",
      "metadata": {
        "id": "c6VucIWk2ENh",
        "colab": {
          "base_uri": "https://localhost:8080/"
        },
        "outputId": "b37f3e9f-0585-45ab-ba7d-b45fc25cf29b"
      },
      "source": [
        "# Kurang dari\n",
        "kurang_dari = x < y\n",
        "print(kurang_dari)"
      ],
      "execution_count": 19,
      "outputs": [
        {
          "output_type": "stream",
          "name": "stdout",
          "text": [
            "False\n"
          ]
        }
      ]
    },
    {
      "cell_type": "code",
      "metadata": {
        "id": "ZjPSek7W2ENm",
        "colab": {
          "base_uri": "https://localhost:8080/"
        },
        "outputId": "1ca259dd-80d4-42f2-b047-ec34d8f99614"
      },
      "source": [
        "# TO DO: isilah dengan menggunakan operator pembanding\n",
        "sama_dengan = x == y #false\n",
        "kurangdari_samadengan = x <= y #false\n",
        "lebihdari_samadengan = x >= y #true\n",
        "tidaksama = x != y #true\n",
        "\n",
        "print(sama_dengan)\n",
        "print(kurangdari_samadengan)\n",
        "print(lebihdari_samadengan)\n",
        "print(tidaksama)"
      ],
      "execution_count": 21,
      "outputs": [
        {
          "output_type": "stream",
          "name": "stdout",
          "text": [
            "False\n",
            "False\n",
            "True\n",
            "True\n"
          ]
        }
      ]
    },
    {
      "cell_type": "markdown",
      "metadata": {
        "id": "qX5USXut2ENs"
      },
      "source": [
        "### 1.3.3. Operator penugasan"
      ]
    },
    {
      "cell_type": "code",
      "metadata": {
        "id": "GsibGJd72ENy",
        "colab": {
          "base_uri": "https://localhost:8080/"
        },
        "outputId": "d2d2e053-1339-4700-e1bd-24b91442f1a7"
      },
      "source": [
        "# Mengisikan variabel x dengan nilainya sendiri dan ditambah dengan nilai sebelah kan\n",
        "x -=5\n",
        "print(x)\n",
        "y +=3\n",
        "print(y)\n",
        "# print(x+y)\n"
      ],
      "execution_count": 26,
      "outputs": [
        {
          "output_type": "stream",
          "name": "stdout",
          "text": [
            "-9\n",
            "10\n"
          ]
        }
      ]
    },
    {
      "cell_type": "code",
      "source": [
        "# operator_penugasan\n",
        "print(x-y)"
      ],
      "metadata": {
        "colab": {
          "base_uri": "https://localhost:8080/"
        },
        "id": "_3yZn8hOWFvm",
        "outputId": "cefa8c7d-8bc5-4b94-e95b-0e9cc47e9335"
      },
      "execution_count": 25,
      "outputs": [
        {
          "output_type": "stream",
          "name": "stdout",
          "text": [
            "-11\n"
          ]
        }
      ]
    },
    {
      "cell_type": "code",
      "source": [
        "a = 1\n",
        "a -= y\n",
        "print(a)"
      ],
      "metadata": {
        "colab": {
          "base_uri": "https://localhost:8080/"
        },
        "id": "-DiB8-2ud-y0",
        "outputId": "710eef87-3e16-4cd5-80db-8031988dd456"
      },
      "execution_count": 27,
      "outputs": [
        {
          "output_type": "stream",
          "name": "stdout",
          "text": [
            "-9\n"
          ]
        }
      ]
    },
    {
      "cell_type": "code",
      "source": [
        "b = 3\n",
        "b *=a\n"
      ],
      "metadata": {
        "colab": {
          "base_uri": "https://localhost:8080/"
        },
        "id": "fETX9-x2XpCk",
        "outputId": "b8f3b575-703a-4a88-f3da-c85ffecf87da"
      },
      "execution_count": 29,
      "outputs": [
        {
          "output_type": "stream",
          "name": "stdout",
          "text": [
            "-9\n"
          ]
        }
      ]
    },
    {
      "cell_type": "code",
      "source": [
        "print(b)"
      ],
      "metadata": {
        "colab": {
          "base_uri": "https://localhost:8080/"
        },
        "id": "5LTHpzE9X6ty",
        "outputId": "fefdf4a2-debf-43b3-c94c-15512d9ce291"
      },
      "execution_count": 30,
      "outputs": [
        {
          "output_type": "stream",
          "name": "stdout",
          "text": [
            "-27\n"
          ]
        }
      ]
    },
    {
      "cell_type": "markdown",
      "source": [
        "![Screen Shot 2024-04-24 at 20.51.44.png](data:image/png;base64,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)"
      ],
      "metadata": {
        "id": "Lx7eMRzXYWeD"
      }
    },
    {
      "cell_type": "markdown",
      "source": [],
      "metadata": {
        "id": "N95o-Ns0YH0S"
      }
    },
    {
      "cell_type": "markdown",
      "metadata": {
        "id": "V8GNwtb32EON"
      },
      "source": [
        "### 1.3.4. Logical Operators"
      ]
    },
    {
      "cell_type": "code",
      "metadata": {
        "id": "urbJ_K2-2EOO"
      },
      "source": [
        "a = True\n",
        "b = False\n",
        "c = True"
      ],
      "execution_count": 31,
      "outputs": []
    },
    {
      "cell_type": "code",
      "metadata": {
        "id": "Rk9c5dpU2EOU",
        "colab": {
          "base_uri": "https://localhost:8080/"
        },
        "outputId": "952d637a-1431-49c7-ded0-8a5923de364a"
      },
      "source": [
        "# Operator AND\n",
        "AND_t_f = a and b\n",
        "or_t_t = a or a\n",
        "or_f_f = b or b\n",
        "print(AND_t_f,'=',or_t_t,'=',or_f_f)"
      ],
      "execution_count": 32,
      "outputs": [
        {
          "output_type": "stream",
          "name": "stdout",
          "text": [
            "False = True = False\n"
          ]
        }
      ]
    },
    {
      "cell_type": "code",
      "metadata": {
        "id": "X4r0gwfr2EOb",
        "colab": {
          "base_uri": "https://localhost:8080/"
        },
        "outputId": "4395adc7-b633-4a62-ccd7-09dd215a0f9e"
      },
      "source": [
        "x = 6\n",
        "y = 2\n",
        "# operator and\n",
        "cek_logic_o = x > 4 and y == None\n",
        "print(cek_logic_o)"
      ],
      "execution_count": 33,
      "outputs": [
        {
          "output_type": "stream",
          "name": "stdout",
          "text": [
            "False\n"
          ]
        }
      ]
    },
    {
      "cell_type": "code",
      "metadata": {
        "id": "T8Hxb1cO2EOj",
        "colab": {
          "base_uri": "https://localhost:8080/"
        },
        "outputId": "805ed124-6894-4f9d-c502-420159fbf3a5"
      },
      "source": [
        "# isilah dengan menggunakan operator NOT\n",
        "NOT = None\n",
        "print(NOT)"
      ],
      "execution_count": null,
      "outputs": [
        {
          "output_type": "stream",
          "name": "stdout",
          "text": [
            "None\n"
          ]
        }
      ]
    },
    {
      "cell_type": "markdown",
      "metadata": {
        "id": "4t9fMgBJ2EOp"
      },
      "source": [
        "### 1.3.5. Operator bitwise"
      ]
    },
    {
      "cell_type": "code",
      "metadata": {
        "id": "WwdEX26J2EOq"
      },
      "source": [
        "biner1 = 5\n",
        "biner2 = 2\n",
        "#0101\n",
        "#0010\n",
        "#0111"
      ],
      "execution_count": 34,
      "outputs": []
    },
    {
      "cell_type": "code",
      "metadata": {
        "id": "Gop9mFTL2EOv",
        "colab": {
          "base_uri": "https://localhost:8080/"
        },
        "outputId": "f0901f6a-32d3-48ae-cc96-d04e985652a0"
      },
      "source": [
        "# Operator &\n",
        "operator_and = biner1 & biner2\n",
        "print(operator_and)"
      ],
      "execution_count": 35,
      "outputs": [
        {
          "output_type": "stream",
          "name": "stdout",
          "text": [
            "0\n"
          ]
        }
      ]
    },
    {
      "cell_type": "code",
      "metadata": {
        "id": "oDS-4PmV2EO1",
        "colab": {
          "base_uri": "https://localhost:8080/"
        },
        "outputId": "75f7af11-fa8f-4621-932b-6c3215bcbbb7"
      },
      "source": [
        "# Operator |\n",
        "operator_or = biner1 | biner2\n",
        "print(operator_or)"
      ],
      "execution_count": 36,
      "outputs": [
        {
          "output_type": "stream",
          "name": "stdout",
          "text": [
            "7\n"
          ]
        }
      ]
    },
    {
      "cell_type": "markdown",
      "metadata": {
        "id": "i8k1vyhz2ERJ"
      },
      "source": [
        "## 1.4. List"
      ]
    },
    {
      "cell_type": "markdown",
      "metadata": {
        "id": "RSc65az62ERK"
      },
      "source": [
        "### 1.4.1 Mengakses list"
      ]
    },
    {
      "cell_type": "code",
      "metadata": {
        "scrolled": true,
        "id": "3-3PP4ok2ERO",
        "colab": {
          "base_uri": "https://localhost:8080/"
        },
        "outputId": "1cf344c8-a8f7-44fc-c6a1-3a3d171b267c"
      },
      "source": [
        "data_list = [1,2,3,4,5,6,7,8,9,10]\n",
        "print(type(data_list))"
      ],
      "execution_count": 43,
      "outputs": [
        {
          "output_type": "stream",
          "name": "stdout",
          "text": [
            "<class 'list'>\n"
          ]
        }
      ]
    },
    {
      "cell_type": "code",
      "source": [
        "data2=['a','b','c','d']\n",
        "print(data2)"
      ],
      "metadata": {
        "id": "zBKFbclQt1GR",
        "colab": {
          "base_uri": "https://localhost:8080/"
        },
        "outputId": "9fdf3b28-108e-4a07-e4eb-93977ee8b64b"
      },
      "execution_count": 40,
      "outputs": [
        {
          "output_type": "stream",
          "name": "stdout",
          "text": [
            "['a', 'b', 'c', 'd']\n"
          ]
        }
      ]
    },
    {
      "cell_type": "markdown",
      "source": [
        "##slicing [start:end:skip]"
      ],
      "metadata": {
        "id": "aHbqrzupfVgB"
      }
    },
    {
      "cell_type": "code",
      "metadata": {
        "id": "IQRAoriG2ERe",
        "colab": {
          "base_uri": "https://localhost:8080/"
        },
        "outputId": "fb383257-66b2-4a35-dcd8-2ecb70b7da8f"
      },
      "source": [
        "#ambil data indexs ke 2\n",
        "bagian_data1 = data_list[2]\n",
        "print(bagian_data1)"
      ],
      "execution_count": 41,
      "outputs": [
        {
          "output_type": "stream",
          "name": "stdout",
          "text": [
            "3\n"
          ]
        }
      ]
    },
    {
      "cell_type": "code",
      "metadata": {
        "id": "50qlWvhO2ERj",
        "colab": {
          "base_uri": "https://localhost:8080/"
        },
        "outputId": "678be390-bda7-4be5-a04a-1d62ed231e6b"
      },
      "source": [
        "# jika diakses dari belakang indeks List akan dimulai dari 1\n",
        "bagian_data2 = data_list[-5]\n",
        "print(bagian_data2)\n"
      ],
      "execution_count": 42,
      "outputs": [
        {
          "output_type": "stream",
          "name": "stdout",
          "text": [
            "3\n"
          ]
        }
      ]
    },
    {
      "cell_type": "code",
      "metadata": {
        "id": "XSCAbb-82ERw",
        "colab": {
          "base_uri": "https://localhost:8080/"
        },
        "outputId": "612e9c1e-a951-4c3f-b65e-fe3616e00302"
      },
      "source": [
        "# TO DO: ambilah angka 3 pada list diatas\n",
        "bagian_data3 = data_list[1:7:2]\n",
        "print(bagian_data3)"
      ],
      "execution_count": 46,
      "outputs": [
        {
          "output_type": "stream",
          "name": "stdout",
          "text": [
            "[2, 4, 6]\n"
          ]
        }
      ]
    },
    {
      "cell_type": "code",
      "source": [
        "# data_list = [1,2,3,4,5,6,7,8,9,10]\n",
        "bagian_data4 = data_list[-7:11]\n",
        "print(bagian_data4)"
      ],
      "metadata": {
        "colab": {
          "base_uri": "https://localhost:8080/"
        },
        "id": "zWlPXN1UgT9q",
        "outputId": "fbe0c470-332e-4af7-8678-1565e8913216"
      },
      "execution_count": 49,
      "outputs": [
        {
          "output_type": "stream",
          "name": "stdout",
          "text": [
            "[4, 5, 6, 7, 8, 9, 10]\n"
          ]
        }
      ]
    },
    {
      "cell_type": "code",
      "source": [
        "print(data_list[-7:7])"
      ],
      "metadata": {
        "colab": {
          "base_uri": "https://localhost:8080/"
        },
        "id": "nXmXYLmyioNZ",
        "outputId": "9b08cbf5-62b3-4729-8be0-2e15c40d0014"
      },
      "execution_count": 53,
      "outputs": [
        {
          "output_type": "stream",
          "name": "stdout",
          "text": [
            "[4, 5, 6, 7]\n"
          ]
        }
      ]
    },
    {
      "cell_type": "code",
      "source": [
        "bagian_data5 = data_list[-7:7:2]\n",
        "print(bagian_data5)"
      ],
      "metadata": {
        "colab": {
          "base_uri": "https://localhost:8080/"
        },
        "id": "OEGK4r2Dhtwx",
        "outputId": "f6987edd-b928-4cf9-d6e0-56b94d2927d5"
      },
      "execution_count": 54,
      "outputs": [
        {
          "output_type": "stream",
          "name": "stdout",
          "text": [
            "[4, 6]\n"
          ]
        }
      ]
    },
    {
      "cell_type": "code",
      "source": [
        "#create data baru dalam list\n",
        "data_list.append(11)\n",
        "print(data_list)"
      ],
      "metadata": {
        "colab": {
          "base_uri": "https://localhost:8080/"
        },
        "id": "KT5kLzpXWP-Y",
        "outputId": "68cfd5ff-4790-40c7-b0bb-5d710fd578fe"
      },
      "execution_count": 55,
      "outputs": [
        {
          "output_type": "stream",
          "name": "stdout",
          "text": [
            "[1, 2, 3, 4, 5, 6, 7, 8, 9, 10, 11]\n"
          ]
        }
      ]
    },
    {
      "cell_type": "markdown",
      "metadata": {
        "id": "F86Y15cZ2ER3"
      },
      "source": [
        "### 1.4.2. Memotong dan Merubah isi List"
      ]
    },
    {
      "cell_type": "code",
      "metadata": {
        "id": "yqcQmMeN2ESA",
        "colab": {
          "base_uri": "https://localhost:8080/"
        },
        "outputId": "c19d079b-bf58-4d36-8006-959172eedc29"
      },
      "source": [
        "#memotong dari indeks ke - 3 hingga indeks terakhir\n",
        "bagian_data5 = data[2:]\n",
        "print(bagian_data5)"
      ],
      "execution_count": null,
      "outputs": [
        {
          "output_type": "stream",
          "name": "stdout",
          "text": [
            "[3, 4, 5, 6, 7]\n"
          ]
        }
      ]
    },
    {
      "cell_type": "code",
      "metadata": {
        "id": "ehjExYsI2ESI",
        "colab": {
          "base_uri": "https://localhost:8080/"
        },
        "outputId": "ad2e3f79-738d-46db-f5ed-42f27fbfaf93"
      },
      "source": [
        "#memotong dari indeks awal hingga sebelum indeks ke - 4\n",
        "bagian_data6 = data[:2]\n",
        "print(bagian_data6)"
      ],
      "execution_count": null,
      "outputs": [
        {
          "output_type": "stream",
          "name": "stdout",
          "text": [
            "[1, 2]\n"
          ]
        }
      ]
    },
    {
      "cell_type": "code",
      "metadata": {
        "id": "d3gXi6eD2ESU",
        "colab": {
          "base_uri": "https://localhost:8080/"
        },
        "outputId": "8196e46e-97d0-449c-f6ee-2cdbd20d02af"
      },
      "source": [
        "#memotong dari indeks ke - -1 hingga sesudah indeks ke - -2, konsepnya berkebalikan dengan bagian_data5\n",
        "bagian_data7 = data[:-2]\n",
        "print(bagian_data7)"
      ],
      "execution_count": null,
      "outputs": [
        {
          "output_type": "stream",
          "name": "stdout",
          "text": [
            "[1, 2, 3, 4, 5]\n"
          ]
        }
      ]
    },
    {
      "cell_type": "code",
      "metadata": {
        "id": "UefjSTDT2ESc",
        "colab": {
          "base_uri": "https://localhost:8080/"
        },
        "outputId": "73d7954a-2498-4987-c7fd-3bd08c0e44d3"
      },
      "source": [
        "# TO DO: ambilah angka 2,3, dan 4 dari list diatas\n",
        "bagian_data8 = data[2:5]\n",
        "print(bagian_data8)"
      ],
      "execution_count": null,
      "outputs": [
        {
          "output_type": "stream",
          "name": "stdout",
          "text": [
            "[3, 4, 5]\n"
          ]
        }
      ]
    },
    {
      "cell_type": "code",
      "metadata": {
        "id": "7KjzMoeOmAs9",
        "colab": {
          "base_uri": "https://localhost:8080/"
        },
        "outputId": "23e66313-0615-458a-cccf-8aa0e2d9c081"
      },
      "source": [
        "data3=[1,2,3,4,5,6,7,9,10]\n",
        "#stride\n",
        "bagian_data9 = data3[0:9:2]\n",
        "print(bagian_data9)"
      ],
      "execution_count": null,
      "outputs": [
        {
          "output_type": "stream",
          "name": "stdout",
          "text": [
            "[1, 3, 5, 7, 10]\n"
          ]
        }
      ]
    },
    {
      "cell_type": "code",
      "metadata": {
        "id": "xxo82Trf2ESk",
        "colab": {
          "base_uri": "https://localhost:8080/"
        },
        "outputId": "70083212-0bfb-4f41-d864-642db93703c2"
      },
      "source": [
        "#merubah isi list dengan memotongnya dan mengganti 10,11,12\n",
        "data3[1:4] = [11,12,13]\n",
        "# [1,11,12,13,5,6,7,9,10]\n",
        "print(data3)"
      ],
      "execution_count": null,
      "outputs": [
        {
          "output_type": "stream",
          "name": "stdout",
          "text": [
            "[1, 11, 12, 13, 5, 6, 7, 9, 10]\n"
          ]
        }
      ]
    },
    {
      "cell_type": "code",
      "metadata": {
        "id": "jwIDMc8onDIi",
        "colab": {
          "base_uri": "https://localhost:8080/"
        },
        "outputId": "ab3ccae6-4e48-4e2f-d169-7b0ee8889f61"
      },
      "source": [
        "#menambhakan list\n",
        "# print(data)\n",
        "data3[1:4] = [2,3,4]\n",
        "print(data3)"
      ],
      "execution_count": null,
      "outputs": [
        {
          "output_type": "stream",
          "name": "stdout",
          "text": [
            "[1, 2, 3, 4, 5, 6, 7, 9, 10, 13]\n"
          ]
        }
      ]
    },
    {
      "cell_type": "code",
      "source": [
        "data3 = data_list\n",
        "print(data3)"
      ],
      "metadata": {
        "colab": {
          "base_uri": "https://localhost:8080/"
        },
        "id": "YjsQdS1ljZUp",
        "outputId": "4a49836e-116d-47dc-e857-381019513a04"
      },
      "execution_count": 57,
      "outputs": [
        {
          "output_type": "stream",
          "name": "stdout",
          "text": [
            "[1, 2, 3, 4, 5, 6, 7, 8, 9, 10, 11]\n"
          ]
        }
      ]
    },
    {
      "cell_type": "code",
      "source": [
        "print(type(data_list))"
      ],
      "metadata": {
        "colab": {
          "base_uri": "https://localhost:8080/"
        },
        "id": "_l2u_CY8jodX",
        "outputId": "0365d4c9-c5a3-4851-bc4f-3ef73186c02a"
      },
      "execution_count": 62,
      "outputs": [
        {
          "output_type": "stream",
          "name": "stdout",
          "text": [
            "<class 'list'>\n"
          ]
        }
      ]
    },
    {
      "cell_type": "code",
      "metadata": {
        "id": "ok-B3GbPnHqH",
        "colab": {
          "base_uri": "https://localhost:8080/"
        },
        "outputId": "f141c161-61dd-4576-b41d-0346d6919058"
      },
      "source": [
        "#remove list by indexs\n",
        "a = data3.pop(0)"
      ],
      "execution_count": 63,
      "outputs": [
        {
          "output_type": "stream",
          "name": "stdout",
          "text": [
            "1\n"
          ]
        }
      ]
    },
    {
      "cell_type": "code",
      "source": [
        "#remove list by slicing indexs\n",
        "del data3[0:5]\n",
        "print(data3)"
      ],
      "metadata": {
        "colab": {
          "base_uri": "https://localhost:8080/"
        },
        "id": "E9vPUeMZj9w3",
        "outputId": "ea23ad4f-bfcd-4f94-90e8-34278cf5fa7b"
      },
      "execution_count": 65,
      "outputs": [
        {
          "output_type": "stream",
          "name": "stdout",
          "text": [
            "[7, 8, 9, 10, 11]\n"
          ]
        }
      ]
    },
    {
      "cell_type": "code",
      "metadata": {
        "id": "E9Ya2kCOnZmV",
        "colab": {
          "base_uri": "https://localhost:8080/"
        },
        "outputId": "86767223-f165-4093-c91d-652972aa09bf"
      },
      "source": [
        "# extend\n",
        "print(data3.extend([1,2,3,4,5,6]))\n"
      ],
      "execution_count": 66,
      "outputs": [
        {
          "output_type": "stream",
          "name": "stdout",
          "text": [
            "None\n",
            "[7, 8, 9, 10, 11, 1, 2, 3, 4, 5, 6]\n"
          ]
        }
      ]
    },
    {
      "cell_type": "markdown",
      "metadata": {
        "id": "XeRFNiI82ES0"
      },
      "source": [
        "### 1.4.3. Multidimensional List"
      ]
    },
    {
      "cell_type": "code",
      "metadata": {
        "id": "XOr9FpsB2ES2",
        "colab": {
          "base_uri": "https://localhost:8080/"
        },
        "outputId": "9a4b6b54-a98f-4e7a-fdcf-bdedbce5a813"
      },
      "source": [
        "#Menggabungkan dua buah list ke dalam satu variabel bernama kotak\n",
        "data1 = [3,8,5,1,6]\n",
        "data2 = [7,0,12,30,2]\n",
        "data3 = [7,12,34,12,4]\n",
        "kotak = [data1, data2]\n",
        "print(kotak)"
      ],
      "execution_count": 67,
      "outputs": [
        {
          "output_type": "stream",
          "name": "stdout",
          "text": [
            "[[3, 8, 5, 1, 6], [7, 0, 12, 30, 2]]\n"
          ]
        }
      ]
    },
    {
      "cell_type": "code",
      "metadata": {
        "id": "MjEhG4EN2ES7",
        "colab": {
          "base_uri": "https://localhost:8080/"
        },
        "outputId": "5236b25d-c75c-4e54-f526-155c5886f146"
      },
      "source": [
        "#mengakses data2\n",
        "akses_kotak = kotak[1][1:4]\n",
        "print(akses_kotak)"
      ],
      "execution_count": 71,
      "outputs": [
        {
          "output_type": "stream",
          "name": "stdout",
          "text": [
            "[0, 12, 30]\n"
          ]
        }
      ]
    },
    {
      "cell_type": "code",
      "source": [
        "#akses list kotak  munculin data 5&1\n",
        "akes_kotak1 = kotak[0][2:4]\n",
        "print(akes_kotak1)"
      ],
      "metadata": {
        "colab": {
          "base_uri": "https://localhost:8080/"
        },
        "id": "IRYUs7VVmG9S",
        "outputId": "3c0d9828-cc29-45c5-8a75-802bc552a393"
      },
      "execution_count": 73,
      "outputs": [
        {
          "output_type": "stream",
          "name": "stdout",
          "text": [
            "[5, 1]\n"
          ]
        }
      ]
    },
    {
      "cell_type": "code",
      "metadata": {
        "id": "XUlecxKO2ETA",
        "colab": {
          "base_uri": "https://localhost:8080/"
        },
        "outputId": "37e4af36-2fb9-49fb-e6b9-38c948d714be"
      },
      "source": [
        "#Mengakses data1 indeks ke = 1\n",
        "# akses_kotak = kotak[0][1]\n",
        "# print(akses_kotak)\n",
        "\n",
        "#Mengakses data2 indeks ke = 3\n",
        "akses_kotak = kotak[1][2]\n",
        "print(akses_kotak)"
      ],
      "execution_count": null,
      "outputs": [
        {
          "output_type": "stream",
          "name": "stdout",
          "text": [
            "12\n"
          ]
        }
      ]
    },
    {
      "cell_type": "code",
      "metadata": {
        "id": "Q1UiBTTc2ETF",
        "colab": {
          "base_uri": "https://localhost:8080/"
        },
        "outputId": "5fe4237e-7dcc-4b37-bd08-72b3f4857ce5"
      },
      "source": [
        "# TO DO: akseslah data2 indeks ke - 2\n",
        "akses_kotak = kotak[0][2]\n",
        "print(akses_kotak)"
      ],
      "execution_count": null,
      "outputs": [
        {
          "output_type": "stream",
          "name": "stdout",
          "text": [
            "5\n"
          ]
        }
      ]
    },
    {
      "cell_type": "markdown",
      "metadata": {
        "id": "aBOLVSKu2EWR"
      },
      "source": [
        "## 1.5 Tuple"
      ]
    },
    {
      "cell_type": "code",
      "metadata": {
        "id": "EkqfGGBo2EWS",
        "colab": {
          "base_uri": "https://localhost:8080/"
        },
        "outputId": "cc9c7fb6-1f10-499e-d0c7-c1f9d978ca71"
      },
      "source": [
        "data = (1,2,3,4,4,4,5,'asd','df')\n",
        "print(type(data))"
      ],
      "execution_count": 77,
      "outputs": [
        {
          "output_type": "stream",
          "name": "stdout",
          "text": [
            "<class 'tuple'>\n"
          ]
        }
      ]
    },
    {
      "cell_type": "code",
      "metadata": {
        "id": "EgdcuuRS2EWa",
        "colab": {
          "base_uri": "https://localhost:8080/"
        },
        "outputId": "b1540a4b-6dc3-4aed-8b27-7e62e0ca48ec"
      },
      "source": [
        "print(data.index(4))"
      ],
      "execution_count": 76,
      "outputs": [
        {
          "output_type": "stream",
          "name": "stdout",
          "text": [
            "3\n"
          ]
        }
      ]
    },
    {
      "cell_type": "code",
      "metadata": {
        "id": "5s7dWS2efV19",
        "colab": {
          "base_uri": "https://localhost:8080/"
        },
        "outputId": "55446544-855c-4ec0-cea1-3e8a6210b9b9"
      },
      "source": [
        "print(data.count(4))"
      ],
      "execution_count": null,
      "outputs": [
        {
          "output_type": "stream",
          "name": "stdout",
          "text": [
            "3\n"
          ]
        }
      ]
    },
    {
      "cell_type": "code",
      "metadata": {
        "id": "fpa_Lls0sZBJ"
      },
      "source": [],
      "execution_count": null,
      "outputs": []
    },
    {
      "cell_type": "markdown",
      "metadata": {
        "id": "xugcnnAu2EWz"
      },
      "source": [
        "## 1.7 Dictionary"
      ]
    },
    {
      "cell_type": "code",
      "metadata": {
        "id": "ii_MqRfP2EW0",
        "colab": {
          "base_uri": "https://localhost:8080/"
        },
        "outputId": "99627ed8-9525-4deb-c343-5a2ec4be6376"
      },
      "source": [
        "# contoh dict\n",
        "data1 = {\"absen\":1,\n",
        "         \"Nama\":\"John Doe\",\n",
        "         \"Pekerjaan\":\"Data Scientist\"\n",
        "        }\n",
        "# print(data1)\n",
        "print(data1[\"Nama\"])"
      ],
      "execution_count": 78,
      "outputs": [
        {
          "output_type": "stream",
          "name": "stdout",
          "text": [
            "John Doe\n"
          ]
        }
      ]
    },
    {
      "cell_type": "code",
      "metadata": {
        "id": "REsMxQad2EW4",
        "colab": {
          "base_uri": "https://localhost:8080/"
        },
        "outputId": "8bfb73ea-b334-4926-dddf-4bd683584492"
      },
      "source": [
        "#keys\n",
        "print(data1.keys())"
      ],
      "execution_count": 79,
      "outputs": [
        {
          "output_type": "stream",
          "name": "stdout",
          "text": [
            "dict_keys(['absen', 'Nama', 'Pekerjaan'])\n"
          ]
        }
      ]
    },
    {
      "cell_type": "code",
      "metadata": {
        "id": "X7Qckncz2EW7",
        "colab": {
          "base_uri": "https://localhost:8080/"
        },
        "outputId": "6b6ffb90-2da0-4d11-cc6d-7eb689ab2f81"
      },
      "source": [
        "#values\n",
        "print(data1.values())"
      ],
      "execution_count": 83,
      "outputs": [
        {
          "output_type": "stream",
          "name": "stdout",
          "text": [
            "dict_values([1, 'John Doe', 'Data Scientist'])\n"
          ]
        }
      ]
    },
    {
      "cell_type": "code",
      "metadata": {
        "id": "gCG0n_342EW9",
        "colab": {
          "base_uri": "https://localhost:8080/"
        },
        "outputId": "976672b0-e090-4189-e49e-f5b4f9fda3ff"
      },
      "source": [
        "#items\n",
        "print(data1.items())"
      ],
      "execution_count": 85,
      "outputs": [
        {
          "output_type": "stream",
          "name": "stdout",
          "text": [
            "dict_items([('absen', 1), ('Nama', 'John Doe'), ('Pekerjaan', 'Data Scientist')])\n"
          ]
        }
      ]
    },
    {
      "cell_type": "code",
      "metadata": {
        "id": "FZudO-G32EXG",
        "colab": {
          "base_uri": "https://localhost:8080/"
        },
        "outputId": "766de7b4-7e01-4bb4-e9cb-ee67165aba4b"
      },
      "source": [
        "data1 = {\"absen\":1,\n",
        "         \"Nama\":\"John Doe\",\n",
        "         \"Pekerjaan\":\"Data Scientist\"\n",
        "        }\n",
        "\n",
        "data2 = {\"NIM\":2,\n",
        "         \"Nama\":\"Budi\",\n",
        "         \"Pekerjaan\":\"Mahasiswa\"\n",
        "        }\n",
        "\n",
        "database = {1:data1,2:data2}\n",
        "print(database)\n",
        "print(database[1][\"Pekerjaan\"])\n",
        "print(database[2])"
      ],
      "execution_count": 90,
      "outputs": [
        {
          "output_type": "stream",
          "name": "stdout",
          "text": [
            "{1: {'absen': 1, 'Nama': 'John Doe', 'Pekerjaan': 'Data Scientist'}, 2: {'NIM': 2, 'Nama': 'Budi', 'Pekerjaan': 'Mahasiswa'}}\n",
            "Data Scientist\n",
            "{'NIM': 2, 'Nama': 'Budi', 'Pekerjaan': 'Mahasiswa'}\n"
          ]
        }
      ]
    },
    {
      "cell_type": "code",
      "metadata": {
        "id": "ZyW8RTHswjSn",
        "colab": {
          "base_uri": "https://localhost:8080/"
        },
        "outputId": "a67895ac-5656-4bbb-f859-551623ee154f"
      },
      "source": [
        "b = {1,2,2,2,3,4}\n",
        "c = tuple(b)\n",
        "print(type(c),'-',type(b))"
      ],
      "execution_count": null,
      "outputs": [
        {
          "output_type": "stream",
          "name": "stdout",
          "text": [
            "<class 'tuple'> - <class 'set'>\n"
          ]
        }
      ]
    },
    {
      "cell_type": "markdown",
      "metadata": {
        "id": "LssamJQs2EWg"
      },
      "source": [
        "## 1.6 Set (Himpunan)"
      ]
    },
    {
      "cell_type": "code",
      "metadata": {
        "id": "Oag_lO1P2EWh",
        "colab": {
          "base_uri": "https://localhost:8080/"
        },
        "outputId": "5640ca3d-05e3-4626-a28b-dd58da6e83e2"
      },
      "source": [
        "buah = {\"apel\",\"jeruk\",\"pisang\"}\n",
        "print(buah)\n"
      ],
      "execution_count": 91,
      "outputs": [
        {
          "output_type": "stream",
          "name": "stdout",
          "text": [
            "{'pisang', 'apel', 'jeruk'}\n"
          ]
        }
      ]
    },
    {
      "cell_type": "code",
      "metadata": {
        "id": "lvAlWggJtPqH",
        "colab": {
          "base_uri": "https://localhost:8080/"
        },
        "outputId": "848ee993-0b68-401e-b395-bff1dabd0bff"
      },
      "source": [
        "# menambah buah anggur\n",
        "buah.add(\"anggur\")\n",
        "print(buah)"
      ],
      "execution_count": 92,
      "outputs": [
        {
          "output_type": "stream",
          "name": "stdout",
          "text": [
            "{'pisang', 'apel', 'anggur', 'jeruk'}\n"
          ]
        }
      ]
    },
    {
      "cell_type": "code",
      "metadata": {
        "id": "m6PqOayz2EWk",
        "colab": {
          "base_uri": "https://localhost:8080/"
        },
        "outputId": "61ac0a76-f66e-4ea4-a65f-7afaf8f39b0f"
      },
      "source": [
        "print(sorted(buah))"
      ],
      "execution_count": 93,
      "outputs": [
        {
          "output_type": "stream",
          "name": "stdout",
          "text": [
            "['anggur', 'apel', 'jeruk', 'pisang']\n"
          ]
        }
      ]
    },
    {
      "cell_type": "code",
      "metadata": {
        "id": "JxPatibI2EWp",
        "colab": {
          "base_uri": "https://localhost:8080/"
        },
        "outputId": "109e29fe-da47-4cd0-96c3-adf8e55f1f54"
      },
      "source": [
        "# union\n",
        "buah1 = {\"manggis\",\"mangga\",\"jambu\"}\n",
        "print(buah.union(buah1))\n"
      ],
      "execution_count": null,
      "outputs": [
        {
          "output_type": "stream",
          "name": "stdout",
          "text": [
            "{'pisang', 'anggur', 'jeruk', 'apel', 'mangga', 'jambu', 'manggis'}\n"
          ]
        }
      ]
    },
    {
      "cell_type": "code",
      "source": [
        "print(sorted(buah))"
      ],
      "metadata": {
        "colab": {
          "base_uri": "https://localhost:8080/"
        },
        "id": "vYw453vJeWXR",
        "outputId": "d522c3c1-bf91-4ee4-820d-255651321b5c"
      },
      "execution_count": null,
      "outputs": [
        {
          "output_type": "stream",
          "name": "stdout",
          "text": [
            "['anggur', 'apel', 'jeruk', 'pisang']\n"
          ]
        }
      ]
    },
    {
      "cell_type": "code",
      "metadata": {
        "id": "6jEMqKcK2EWt"
      },
      "source": [
        "# TO DO: buat lah intersection buah dan buah1"
      ],
      "execution_count": null,
      "outputs": []
    },
    {
      "cell_type": "markdown",
      "metadata": {
        "id": "cBcgcKC92Ero"
      },
      "source": [
        "![image.png](data:image/png;base64,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)"
      ]
    },
    {
      "cell_type": "markdown",
      "metadata": {
        "id": "douFcqUCUfzo"
      },
      "source": [
        "## 1.8 if Else Statements"
      ]
    },
    {
      "cell_type": "code",
      "metadata": {
        "id": "9OyJCl7vUfzu",
        "colab": {
          "base_uri": "https://localhost:8080/"
        },
        "outputId": "8f1c5751-bcbb-4e14-965b-cd9d999993d5"
      },
      "source": [
        "a = 1\n",
        "b = 2\n",
        "if 1 < b:\n",
        "  print(\"oke\")"
      ],
      "execution_count": 96,
      "outputs": [
        {
          "output_type": "stream",
          "name": "stdout",
          "text": [
            "oke\n"
          ]
        }
      ]
    },
    {
      "cell_type": "code",
      "metadata": {
        "id": "vn-O2hqYUfzx",
        "colab": {
          "base_uri": "https://localhost:8080/"
        },
        "outputId": "9f7dc8fe-3b81-4a3d-bfb9-66cb9f1e01bb"
      },
      "source": [
        "if 1 > 2:\n",
        "    print('hello')\n",
        "else:\n",
        "    print('world')"
      ],
      "execution_count": 97,
      "outputs": [
        {
          "output_type": "stream",
          "name": "stdout",
          "text": [
            "world\n"
          ]
        }
      ]
    },
    {
      "cell_type": "code",
      "metadata": {
        "id": "4qLrtMmWUf0B",
        "colab": {
          "base_uri": "https://localhost:8080/"
        },
        "outputId": "5bbed481-c3c0-4391-b833-66b1695d86b1"
      },
      "source": [
        "\n",
        "if a == b:\n",
        "  print('Hello')\n",
        "elif a > b:\n",
        "  print('disini a > b')\n",
        "elif a < b :\n",
        "  print(\"true disini\")\n",
        "else:\n",
        "  print('hello world')"
      ],
      "execution_count": 100,
      "outputs": [
        {
          "output_type": "stream",
          "name": "stdout",
          "text": [
            "true disini\n"
          ]
        }
      ]
    },
    {
      "cell_type": "markdown",
      "metadata": {
        "id": "4NGQV1hUyCiU"
      },
      "source": [
        "## 1.9 Looping"
      ]
    },
    {
      "cell_type": "markdown",
      "metadata": {
        "id": "G4WkAFpcUf0F"
      },
      "source": [
        "### 1.9.1. for Loops"
      ]
    },
    {
      "cell_type": "code",
      "metadata": {
        "id": "ugv4JY1ZUf0G"
      },
      "source": [
        "seq = [1,2,3,4,5]"
      ],
      "execution_count": 101,
      "outputs": []
    },
    {
      "cell_type": "code",
      "metadata": {
        "id": "crBl2kK1Uf0M",
        "colab": {
          "base_uri": "https://localhost:8080/"
        },
        "outputId": "764ce153-cc28-47c6-a5db-9a75e547900c"
      },
      "source": [
        "for a in seq:\n",
        "    print(a)"
      ],
      "execution_count": 102,
      "outputs": [
        {
          "output_type": "stream",
          "name": "stdout",
          "text": [
            "1\n",
            "2\n",
            "3\n",
            "4\n",
            "5\n"
          ]
        }
      ]
    },
    {
      "cell_type": "code",
      "metadata": {
        "id": "XvyXJ2FGUf0V",
        "colab": {
          "base_uri": "https://localhost:8080/"
        },
        "outputId": "88b8532d-3813-493d-a59d-aa777592f610"
      },
      "source": [
        "for item in seq:\n",
        "    print('Hello')"
      ],
      "execution_count": 103,
      "outputs": [
        {
          "output_type": "stream",
          "name": "stdout",
          "text": [
            "Hello\n",
            "Hello\n",
            "Hello\n",
            "Hello\n",
            "Hello\n"
          ]
        }
      ]
    },
    {
      "cell_type": "code",
      "metadata": {
        "id": "28Ql5nfqUf0k",
        "colab": {
          "base_uri": "https://localhost:8080/"
        },
        "outputId": "c03f5190-9698-47c8-e8e3-106591e99dc6"
      },
      "source": [
        "for i in seq:\n",
        "    print(i*i)"
      ],
      "execution_count": 104,
      "outputs": [
        {
          "output_type": "stream",
          "name": "stdout",
          "text": [
            "1\n",
            "4\n",
            "9\n",
            "16\n",
            "25\n"
          ]
        }
      ]
    },
    {
      "cell_type": "code",
      "metadata": {
        "id": "ArhfZjm5wzY6",
        "colab": {
          "base_uri": "https://localhost:8080/"
        },
        "outputId": "b3b7dcf0-b5d9-4428-c284-847207da9ff3"
      },
      "source": [
        "for i in seq:\n",
        "    print(i*i)"
      ],
      "execution_count": null,
      "outputs": [
        {
          "output_type": "stream",
          "name": "stdout",
          "text": [
            "1\n",
            "4\n",
            "9\n",
            "16\n",
            "25\n"
          ]
        }
      ]
    },
    {
      "cell_type": "markdown",
      "metadata": {
        "id": "BRJTmIzhUf0p"
      },
      "source": [
        "### 1.9.2. while Loops"
      ]
    },
    {
      "cell_type": "code",
      "metadata": {
        "id": "U329_qzjUf0r",
        "colab": {
          "base_uri": "https://localhost:8080/"
        },
        "outputId": "02bf35ea-7e14-4ed1-f98b-231043824fa7"
      },
      "source": [
        "i = 3\n",
        "while i < 9:\n",
        "    print(i)\n",
        "    i +=1"
      ],
      "execution_count": 1,
      "outputs": [
        {
          "output_type": "stream",
          "name": "stdout",
          "text": [
            "3\n",
            "4\n",
            "5\n",
            "6\n",
            "7\n",
            "8\n"
          ]
        }
      ]
    },
    {
      "cell_type": "markdown",
      "metadata": {
        "id": "yDMsM4lK2EVj"
      },
      "source": [
        "## 1.10. Function"
      ]
    },
    {
      "cell_type": "markdown",
      "metadata": {
        "id": "-bWzivyx2EVk"
      },
      "source": [
        "### 1.10.1. Fungsi sederhana"
      ]
    },
    {
      "cell_type": "code",
      "metadata": {
        "id": "c6qk2gt62EVl"
      },
      "source": [
        "def fungsi():\n",
        "  print('dfdf')\n",
        "    # print(\"Hello World!\")\n",
        "\n",
        "# fungsi()"
      ],
      "execution_count": 2,
      "outputs": []
    },
    {
      "cell_type": "code",
      "source": [
        "fungsi()"
      ],
      "metadata": {
        "colab": {
          "base_uri": "https://localhost:8080/"
        },
        "id": "YZS-_9Vkfk2O",
        "outputId": "82180429-c0a5-4f69-e45b-3e25773e132c"
      },
      "execution_count": 3,
      "outputs": [
        {
          "output_type": "stream",
          "name": "stdout",
          "text": [
            "dfdf\n"
          ]
        }
      ]
    },
    {
      "cell_type": "markdown",
      "metadata": {
        "id": "U_6X6BMh2EVs"
      },
      "source": [
        "### 1.10.2. Fungsi dengan argumen"
      ]
    },
    {
      "cell_type": "code",
      "metadata": {
        "id": "sotFxzli2EVs",
        "colab": {
          "base_uri": "https://localhost:8080/"
        },
        "outputId": "8c9463f4-0205-4989-ff90-fb55b9ae0725"
      },
      "source": [
        "def jumlah(angka1,angka2):\n",
        "    hasil = angka1 + angka2\n",
        "    # operator = hasil > 1\n",
        "    return (hasil)\n",
        "    # print(hasil)\n",
        "\n",
        "jumlah(1,2)"
      ],
      "execution_count": 8,
      "outputs": [
        {
          "output_type": "execute_result",
          "data": {
            "text/plain": [
              "3"
            ]
          },
          "metadata": {},
          "execution_count": 8
        }
      ]
    },
    {
      "cell_type": "code",
      "source": [
        "jumlah(4,3)"
      ],
      "metadata": {
        "colab": {
          "base_uri": "https://localhost:8080/"
        },
        "id": "QFUFhCabfxlC",
        "outputId": "8c79d342-e546-4b38-d990-dcbe496f2e28"
      },
      "execution_count": 5,
      "outputs": [
        {
          "output_type": "execute_result",
          "data": {
            "text/plain": [
              "7"
            ]
          },
          "metadata": {},
          "execution_count": 5
        }
      ]
    },
    {
      "cell_type": "code",
      "metadata": {
        "id": "scyuegB42EVx"
      },
      "source": [
        "# TO DO: buatlah fungsi * dengan satu argumen\n",
        "def pangkat(angka1,angka2):\n",
        "    hasil = angka1 * angka2\n",
        "    print(hasil)\n"
      ],
      "execution_count": 9,
      "outputs": []
    },
    {
      "cell_type": "code",
      "source": [
        "pangkat(2,4)\n",
        "jumlah(1,2)"
      ],
      "metadata": {
        "colab": {
          "base_uri": "https://localhost:8080/"
        },
        "id": "mtjWquNwusnD",
        "outputId": "0cd35416-32c2-40bb-b256-a67e6912eb06"
      },
      "execution_count": 10,
      "outputs": [
        {
          "output_type": "stream",
          "name": "stdout",
          "text": [
            "8\n"
          ]
        },
        {
          "output_type": "execute_result",
          "data": {
            "text/plain": [
              "3"
            ]
          },
          "metadata": {},
          "execution_count": 10
        }
      ]
    },
    {
      "cell_type": "markdown",
      "metadata": {
        "id": "7AtWbCEK2EV2"
      },
      "source": [
        "### 1.10.3. Fungsi dengan return value"
      ]
    },
    {
      "cell_type": "code",
      "metadata": {
        "id": "IH3v4GqY2EV3"
      },
      "source": [
        "def perkalian(angka1,angka2):\n",
        "    hasil = angka1 * angka2\n",
        "    print(hasil)"
      ],
      "execution_count": 11,
      "outputs": []
    },
    {
      "cell_type": "code",
      "metadata": {
        "id": "7aLSmSwnzVys",
        "colab": {
          "base_uri": "https://localhost:8080/"
        },
        "outputId": "d0b03c5a-854a-476b-b5fc-4edbc84efe6e"
      },
      "source": [
        "perkalian(2,4)"
      ],
      "execution_count": 12,
      "outputs": [
        {
          "output_type": "stream",
          "name": "stdout",
          "text": [
            "8\n"
          ]
        }
      ]
    },
    {
      "cell_type": "code",
      "metadata": {
        "id": "8E_8qVHuzaAS",
        "colab": {
          "base_uri": "https://localhost:8080/"
        },
        "outputId": "b463e780-c930-4d3b-f3bc-ddf0e7c8f388"
      },
      "source": [
        "a = perkalian(1,2)"
      ],
      "execution_count": null,
      "outputs": [
        {
          "output_type": "stream",
          "name": "stdout",
          "text": [
            "2\n"
          ]
        }
      ]
    },
    {
      "cell_type": "code",
      "metadata": {
        "id": "m7eNreMXzcm8",
        "colab": {
          "base_uri": "https://localhost:8080/"
        },
        "outputId": "c2523e89-3ebc-41f2-81a9-e355613a5e30"
      },
      "source": [
        "print(a)"
      ],
      "execution_count": null,
      "outputs": [
        {
          "output_type": "stream",
          "name": "stdout",
          "text": [
            "None\n"
          ]
        }
      ]
    },
    {
      "cell_type": "code",
      "metadata": {
        "id": "zJC6n8rg2EV7",
        "colab": {
          "base_uri": "https://localhost:8080/"
        },
        "outputId": "89b7933f-4725-4b97-f0a7-49c2659a8106"
      },
      "source": [
        "def perkalian(angka1,angka2):\n",
        "    hasil = angka1 * angka2\n",
        "    return hasil\n",
        "\n",
        "a = perkalian(2,3)\n",
        "print(a)\n",
        "# b = 10 + a\n",
        "# print(b)"
      ],
      "execution_count": null,
      "outputs": [
        {
          "output_type": "stream",
          "name": "stdout",
          "text": [
            "6\n"
          ]
        }
      ]
    },
    {
      "cell_type": "code",
      "source": [
        "a = perkalian(2,3)\n",
        "print(a)\n",
        "b = 10 + a\n",
        "print(b)"
      ],
      "metadata": {
        "id": "F9ONTItQgKex",
        "outputId": "2cb4663c-ead4-4777-9a57-b7f36d6fb156",
        "colab": {
          "base_uri": "https://localhost:8080/"
        }
      },
      "execution_count": null,
      "outputs": [
        {
          "output_type": "stream",
          "name": "stdout",
          "text": [
            "6\n",
            "6\n",
            "16\n"
          ]
        }
      ]
    },
    {
      "cell_type": "code",
      "metadata": {
        "id": "KcCAH54y2EWB",
        "colab": {
          "base_uri": "https://localhost:8080/"
        },
        "outputId": "87cef9b5-7b0e-4b1d-9e29-b99a25db7d95"
      },
      "source": [
        "def perkalian(angka1,angka2):\n",
        "    hasil = angka1 * angka2\n",
        "    return hasil\n",
        "\n",
        "# TO DO: masukanlah fungsi perkalian ke dalam variabel a dan isi argumennya dengan fungsi penjumlahan, lalu cetak\n",
        "def jumlah(angka1,angka2):\n",
        "    hasil = angka1 + angka2\n",
        "    return hasil\n",
        "\n",
        "a = perkalian(2,jumlah(3,4))\n",
        "print(a)"
      ],
      "execution_count": 13,
      "outputs": [
        {
          "output_type": "stream",
          "name": "stdout",
          "text": [
            "14\n"
          ]
        }
      ]
    },
    {
      "cell_type": "markdown",
      "metadata": {
        "id": "pyI8LINw0i0P"
      },
      "source": [
        "# Thanks\n",
        "Feel free to contact me:\n",
        "\n",
        "\n",
        "*   linkedIn: https://www.linkedin.com/in/ali-murtadho/\n",
        "*   Github: https://github.com/alimurtadho\n",
        "*   telegram: https://t.me/alimurtadho_id\n",
        "*   medium: https://medium.com/@dho_aldho\n",
        "\n",
        "\n",
        "\n",
        "\n"
      ]
    }
  ]
}